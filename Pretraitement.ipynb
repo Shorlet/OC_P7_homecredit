{
 "cells": [
  {
   "cell_type": "raw",
   "id": "d882fbc5",
   "metadata": {},
   "source": [
    "Welcome to the 7th project of Openclassrooms' Data Scientist path !"
   ]
  },
  {
   "cell_type": "markdown",
   "id": "178c9432",
   "metadata": {},
   "source": [
    "# Step 1 : Set up of the environment"
   ]
  },
  {
   "cell_type": "code",
   "execution_count": 1,
   "id": "af3d03f1",
   "metadata": {},
   "outputs": [],
   "source": [
    "# Global parameters for the project\n",
    "DATA_DIRECTORY = \"data\""
   ]
  },
  {
   "cell_type": "code",
   "execution_count": 2,
   "id": "33fa81e3",
   "metadata": {},
   "outputs": [],
   "source": [
    "\"\"\" Librairies import \"\"\"\n",
    "\n",
    "# File system manangement\n",
    "import os\n",
    "\n",
    "# Suppress warnings \n",
    "import warnings\n",
    "warnings.filterwarnings('ignore')\n",
    "\n",
    "# numpy and pandas for data manipulation\n",
    "import numpy as np\n",
    "import pandas as pd\n",
    "\n",
    "# matplotlib and seaborn for plotting\n",
    "import matplotlib.pyplot as plt\n",
    "import seaborn as sns\n",
    "\n",
    "# sklearn preprocessing for dealing with categorical variables\n",
    "from sklearn.preprocessing import LabelEncoder"
   ]
  },
  {
   "cell_type": "markdown",
   "id": "47239ce8",
   "metadata": {},
   "source": [
    "Source of the Jupyter Notebook:\n",
    "https://www.kaggle.com/willkoehrsen/start-here-a-gentle-introduction"
   ]
  },
  {
   "cell_type": "markdown",
   "id": "bba165f8",
   "metadata": {},
   "source": [
    "# Step 2 : EDA : Exploratory Data Analysis"
   ]
  },
  {
   "cell_type": "markdown",
   "id": "6fffc6cd",
   "metadata": {},
   "source": [
    "![image](https://storage.googleapis.com/kaggle-media/competitions/home-credit/home_credit.png)"
   ]
  },
  {
   "cell_type": "code",
   "execution_count": 3,
   "id": "4724e573",
   "metadata": {},
   "outputs": [
    {
     "name": "stdout",
     "output_type": "stream",
     "text": [
      "['HomeCredit_columns_description.csv', 'sample_submission.csv', 'application_test.csv', 'installments_payments.csv', 'bureau_balance.csv', 'credit_card_balance.csv', 'POS_CASH_balance.csv', 'application_train.csv', 'bureau.csv', 'previous_application.csv']\n"
     ]
    }
   ],
   "source": [
    "# List files available\n",
    "print(os.listdir(DATA_DIRECTORY))"
   ]
  },
  {
   "cell_type": "raw",
   "id": "99a36c66",
   "metadata": {},
   "source": [
    "For the modelisation, we will focus on train & test datasets."
   ]
  },
  {
   "cell_type": "code",
   "execution_count": 4,
   "id": "d5c5ae34",
   "metadata": {},
   "outputs": [
    {
     "name": "stdout",
     "output_type": "stream",
     "text": [
      "Training data shape:  (307511, 122)\n"
     ]
    },
    {
     "data": {
      "text/html": [
       "<div>\n",
       "<style scoped>\n",
       "    .dataframe tbody tr th:only-of-type {\n",
       "        vertical-align: middle;\n",
       "    }\n",
       "\n",
       "    .dataframe tbody tr th {\n",
       "        vertical-align: top;\n",
       "    }\n",
       "\n",
       "    .dataframe thead th {\n",
       "        text-align: right;\n",
       "    }\n",
       "</style>\n",
       "<table border=\"1\" class=\"dataframe\">\n",
       "  <thead>\n",
       "    <tr style=\"text-align: right;\">\n",
       "      <th></th>\n",
       "      <th>SK_ID_CURR</th>\n",
       "      <th>TARGET</th>\n",
       "      <th>NAME_CONTRACT_TYPE</th>\n",
       "      <th>CODE_GENDER</th>\n",
       "      <th>FLAG_OWN_CAR</th>\n",
       "      <th>FLAG_OWN_REALTY</th>\n",
       "      <th>CNT_CHILDREN</th>\n",
       "      <th>AMT_INCOME_TOTAL</th>\n",
       "      <th>AMT_CREDIT</th>\n",
       "      <th>AMT_ANNUITY</th>\n",
       "      <th>...</th>\n",
       "      <th>FLAG_DOCUMENT_18</th>\n",
       "      <th>FLAG_DOCUMENT_19</th>\n",
       "      <th>FLAG_DOCUMENT_20</th>\n",
       "      <th>FLAG_DOCUMENT_21</th>\n",
       "      <th>AMT_REQ_CREDIT_BUREAU_HOUR</th>\n",
       "      <th>AMT_REQ_CREDIT_BUREAU_DAY</th>\n",
       "      <th>AMT_REQ_CREDIT_BUREAU_WEEK</th>\n",
       "      <th>AMT_REQ_CREDIT_BUREAU_MON</th>\n",
       "      <th>AMT_REQ_CREDIT_BUREAU_QRT</th>\n",
       "      <th>AMT_REQ_CREDIT_BUREAU_YEAR</th>\n",
       "    </tr>\n",
       "  </thead>\n",
       "  <tbody>\n",
       "    <tr>\n",
       "      <th>0</th>\n",
       "      <td>100002</td>\n",
       "      <td>1</td>\n",
       "      <td>Cash loans</td>\n",
       "      <td>M</td>\n",
       "      <td>N</td>\n",
       "      <td>Y</td>\n",
       "      <td>0</td>\n",
       "      <td>202500.0</td>\n",
       "      <td>406597.5</td>\n",
       "      <td>24700.5</td>\n",
       "      <td>...</td>\n",
       "      <td>0</td>\n",
       "      <td>0</td>\n",
       "      <td>0</td>\n",
       "      <td>0</td>\n",
       "      <td>0.0</td>\n",
       "      <td>0.0</td>\n",
       "      <td>0.0</td>\n",
       "      <td>0.0</td>\n",
       "      <td>0.0</td>\n",
       "      <td>1.0</td>\n",
       "    </tr>\n",
       "    <tr>\n",
       "      <th>1</th>\n",
       "      <td>100003</td>\n",
       "      <td>0</td>\n",
       "      <td>Cash loans</td>\n",
       "      <td>F</td>\n",
       "      <td>N</td>\n",
       "      <td>N</td>\n",
       "      <td>0</td>\n",
       "      <td>270000.0</td>\n",
       "      <td>1293502.5</td>\n",
       "      <td>35698.5</td>\n",
       "      <td>...</td>\n",
       "      <td>0</td>\n",
       "      <td>0</td>\n",
       "      <td>0</td>\n",
       "      <td>0</td>\n",
       "      <td>0.0</td>\n",
       "      <td>0.0</td>\n",
       "      <td>0.0</td>\n",
       "      <td>0.0</td>\n",
       "      <td>0.0</td>\n",
       "      <td>0.0</td>\n",
       "    </tr>\n",
       "    <tr>\n",
       "      <th>2</th>\n",
       "      <td>100004</td>\n",
       "      <td>0</td>\n",
       "      <td>Revolving loans</td>\n",
       "      <td>M</td>\n",
       "      <td>Y</td>\n",
       "      <td>Y</td>\n",
       "      <td>0</td>\n",
       "      <td>67500.0</td>\n",
       "      <td>135000.0</td>\n",
       "      <td>6750.0</td>\n",
       "      <td>...</td>\n",
       "      <td>0</td>\n",
       "      <td>0</td>\n",
       "      <td>0</td>\n",
       "      <td>0</td>\n",
       "      <td>0.0</td>\n",
       "      <td>0.0</td>\n",
       "      <td>0.0</td>\n",
       "      <td>0.0</td>\n",
       "      <td>0.0</td>\n",
       "      <td>0.0</td>\n",
       "    </tr>\n",
       "    <tr>\n",
       "      <th>3</th>\n",
       "      <td>100006</td>\n",
       "      <td>0</td>\n",
       "      <td>Cash loans</td>\n",
       "      <td>F</td>\n",
       "      <td>N</td>\n",
       "      <td>Y</td>\n",
       "      <td>0</td>\n",
       "      <td>135000.0</td>\n",
       "      <td>312682.5</td>\n",
       "      <td>29686.5</td>\n",
       "      <td>...</td>\n",
       "      <td>0</td>\n",
       "      <td>0</td>\n",
       "      <td>0</td>\n",
       "      <td>0</td>\n",
       "      <td>NaN</td>\n",
       "      <td>NaN</td>\n",
       "      <td>NaN</td>\n",
       "      <td>NaN</td>\n",
       "      <td>NaN</td>\n",
       "      <td>NaN</td>\n",
       "    </tr>\n",
       "    <tr>\n",
       "      <th>4</th>\n",
       "      <td>100007</td>\n",
       "      <td>0</td>\n",
       "      <td>Cash loans</td>\n",
       "      <td>M</td>\n",
       "      <td>N</td>\n",
       "      <td>Y</td>\n",
       "      <td>0</td>\n",
       "      <td>121500.0</td>\n",
       "      <td>513000.0</td>\n",
       "      <td>21865.5</td>\n",
       "      <td>...</td>\n",
       "      <td>0</td>\n",
       "      <td>0</td>\n",
       "      <td>0</td>\n",
       "      <td>0</td>\n",
       "      <td>0.0</td>\n",
       "      <td>0.0</td>\n",
       "      <td>0.0</td>\n",
       "      <td>0.0</td>\n",
       "      <td>0.0</td>\n",
       "      <td>0.0</td>\n",
       "    </tr>\n",
       "  </tbody>\n",
       "</table>\n",
       "<p>5 rows × 122 columns</p>\n",
       "</div>"
      ],
      "text/plain": [
       "   SK_ID_CURR  TARGET NAME_CONTRACT_TYPE CODE_GENDER FLAG_OWN_CAR  \\\n",
       "0      100002       1         Cash loans           M            N   \n",
       "1      100003       0         Cash loans           F            N   \n",
       "2      100004       0    Revolving loans           M            Y   \n",
       "3      100006       0         Cash loans           F            N   \n",
       "4      100007       0         Cash loans           M            N   \n",
       "\n",
       "  FLAG_OWN_REALTY  CNT_CHILDREN  AMT_INCOME_TOTAL  AMT_CREDIT  AMT_ANNUITY  \\\n",
       "0               Y             0          202500.0    406597.5      24700.5   \n",
       "1               N             0          270000.0   1293502.5      35698.5   \n",
       "2               Y             0           67500.0    135000.0       6750.0   \n",
       "3               Y             0          135000.0    312682.5      29686.5   \n",
       "4               Y             0          121500.0    513000.0      21865.5   \n",
       "\n",
       "   ...  FLAG_DOCUMENT_18 FLAG_DOCUMENT_19 FLAG_DOCUMENT_20 FLAG_DOCUMENT_21  \\\n",
       "0  ...                 0                0                0                0   \n",
       "1  ...                 0                0                0                0   \n",
       "2  ...                 0                0                0                0   \n",
       "3  ...                 0                0                0                0   \n",
       "4  ...                 0                0                0                0   \n",
       "\n",
       "  AMT_REQ_CREDIT_BUREAU_HOUR AMT_REQ_CREDIT_BUREAU_DAY  \\\n",
       "0                        0.0                       0.0   \n",
       "1                        0.0                       0.0   \n",
       "2                        0.0                       0.0   \n",
       "3                        NaN                       NaN   \n",
       "4                        0.0                       0.0   \n",
       "\n",
       "   AMT_REQ_CREDIT_BUREAU_WEEK  AMT_REQ_CREDIT_BUREAU_MON  \\\n",
       "0                         0.0                        0.0   \n",
       "1                         0.0                        0.0   \n",
       "2                         0.0                        0.0   \n",
       "3                         NaN                        NaN   \n",
       "4                         0.0                        0.0   \n",
       "\n",
       "   AMT_REQ_CREDIT_BUREAU_QRT  AMT_REQ_CREDIT_BUREAU_YEAR  \n",
       "0                        0.0                         1.0  \n",
       "1                        0.0                         0.0  \n",
       "2                        0.0                         0.0  \n",
       "3                        NaN                         NaN  \n",
       "4                        0.0                         0.0  \n",
       "\n",
       "[5 rows x 122 columns]"
      ]
     },
     "execution_count": 4,
     "metadata": {},
     "output_type": "execute_result"
    }
   ],
   "source": [
    "# Training data\n",
    "app_train = pd.read_csv(DATA_DIRECTORY + '/application_train.csv')\n",
    "print('Training data shape: ', app_train.shape)\n",
    "app_train.head()"
   ]
  },
  {
   "cell_type": "raw",
   "id": "ecfb7a2a",
   "metadata": {},
   "source": [
    "The training data has 307511 observations (each one a separate loan) and 122 features (variables) including the `TARGET` (the label we want to predict)."
   ]
  },
  {
   "cell_type": "code",
   "execution_count": 5,
   "id": "90e76913",
   "metadata": {},
   "outputs": [
    {
     "name": "stdout",
     "output_type": "stream",
     "text": [
      "Testing data shape:  (48744, 121)\n"
     ]
    },
    {
     "data": {
      "text/html": [
       "<div>\n",
       "<style scoped>\n",
       "    .dataframe tbody tr th:only-of-type {\n",
       "        vertical-align: middle;\n",
       "    }\n",
       "\n",
       "    .dataframe tbody tr th {\n",
       "        vertical-align: top;\n",
       "    }\n",
       "\n",
       "    .dataframe thead th {\n",
       "        text-align: right;\n",
       "    }\n",
       "</style>\n",
       "<table border=\"1\" class=\"dataframe\">\n",
       "  <thead>\n",
       "    <tr style=\"text-align: right;\">\n",
       "      <th></th>\n",
       "      <th>SK_ID_CURR</th>\n",
       "      <th>NAME_CONTRACT_TYPE</th>\n",
       "      <th>CODE_GENDER</th>\n",
       "      <th>FLAG_OWN_CAR</th>\n",
       "      <th>FLAG_OWN_REALTY</th>\n",
       "      <th>CNT_CHILDREN</th>\n",
       "      <th>AMT_INCOME_TOTAL</th>\n",
       "      <th>AMT_CREDIT</th>\n",
       "      <th>AMT_ANNUITY</th>\n",
       "      <th>AMT_GOODS_PRICE</th>\n",
       "      <th>...</th>\n",
       "      <th>FLAG_DOCUMENT_18</th>\n",
       "      <th>FLAG_DOCUMENT_19</th>\n",
       "      <th>FLAG_DOCUMENT_20</th>\n",
       "      <th>FLAG_DOCUMENT_21</th>\n",
       "      <th>AMT_REQ_CREDIT_BUREAU_HOUR</th>\n",
       "      <th>AMT_REQ_CREDIT_BUREAU_DAY</th>\n",
       "      <th>AMT_REQ_CREDIT_BUREAU_WEEK</th>\n",
       "      <th>AMT_REQ_CREDIT_BUREAU_MON</th>\n",
       "      <th>AMT_REQ_CREDIT_BUREAU_QRT</th>\n",
       "      <th>AMT_REQ_CREDIT_BUREAU_YEAR</th>\n",
       "    </tr>\n",
       "  </thead>\n",
       "  <tbody>\n",
       "    <tr>\n",
       "      <th>0</th>\n",
       "      <td>100001</td>\n",
       "      <td>Cash loans</td>\n",
       "      <td>F</td>\n",
       "      <td>N</td>\n",
       "      <td>Y</td>\n",
       "      <td>0</td>\n",
       "      <td>135000.0</td>\n",
       "      <td>568800.0</td>\n",
       "      <td>20560.5</td>\n",
       "      <td>450000.0</td>\n",
       "      <td>...</td>\n",
       "      <td>0</td>\n",
       "      <td>0</td>\n",
       "      <td>0</td>\n",
       "      <td>0</td>\n",
       "      <td>0.0</td>\n",
       "      <td>0.0</td>\n",
       "      <td>0.0</td>\n",
       "      <td>0.0</td>\n",
       "      <td>0.0</td>\n",
       "      <td>0.0</td>\n",
       "    </tr>\n",
       "    <tr>\n",
       "      <th>1</th>\n",
       "      <td>100005</td>\n",
       "      <td>Cash loans</td>\n",
       "      <td>M</td>\n",
       "      <td>N</td>\n",
       "      <td>Y</td>\n",
       "      <td>0</td>\n",
       "      <td>99000.0</td>\n",
       "      <td>222768.0</td>\n",
       "      <td>17370.0</td>\n",
       "      <td>180000.0</td>\n",
       "      <td>...</td>\n",
       "      <td>0</td>\n",
       "      <td>0</td>\n",
       "      <td>0</td>\n",
       "      <td>0</td>\n",
       "      <td>0.0</td>\n",
       "      <td>0.0</td>\n",
       "      <td>0.0</td>\n",
       "      <td>0.0</td>\n",
       "      <td>0.0</td>\n",
       "      <td>3.0</td>\n",
       "    </tr>\n",
       "    <tr>\n",
       "      <th>2</th>\n",
       "      <td>100013</td>\n",
       "      <td>Cash loans</td>\n",
       "      <td>M</td>\n",
       "      <td>Y</td>\n",
       "      <td>Y</td>\n",
       "      <td>0</td>\n",
       "      <td>202500.0</td>\n",
       "      <td>663264.0</td>\n",
       "      <td>69777.0</td>\n",
       "      <td>630000.0</td>\n",
       "      <td>...</td>\n",
       "      <td>0</td>\n",
       "      <td>0</td>\n",
       "      <td>0</td>\n",
       "      <td>0</td>\n",
       "      <td>0.0</td>\n",
       "      <td>0.0</td>\n",
       "      <td>0.0</td>\n",
       "      <td>0.0</td>\n",
       "      <td>1.0</td>\n",
       "      <td>4.0</td>\n",
       "    </tr>\n",
       "    <tr>\n",
       "      <th>3</th>\n",
       "      <td>100028</td>\n",
       "      <td>Cash loans</td>\n",
       "      <td>F</td>\n",
       "      <td>N</td>\n",
       "      <td>Y</td>\n",
       "      <td>2</td>\n",
       "      <td>315000.0</td>\n",
       "      <td>1575000.0</td>\n",
       "      <td>49018.5</td>\n",
       "      <td>1575000.0</td>\n",
       "      <td>...</td>\n",
       "      <td>0</td>\n",
       "      <td>0</td>\n",
       "      <td>0</td>\n",
       "      <td>0</td>\n",
       "      <td>0.0</td>\n",
       "      <td>0.0</td>\n",
       "      <td>0.0</td>\n",
       "      <td>0.0</td>\n",
       "      <td>0.0</td>\n",
       "      <td>3.0</td>\n",
       "    </tr>\n",
       "    <tr>\n",
       "      <th>4</th>\n",
       "      <td>100038</td>\n",
       "      <td>Cash loans</td>\n",
       "      <td>M</td>\n",
       "      <td>Y</td>\n",
       "      <td>N</td>\n",
       "      <td>1</td>\n",
       "      <td>180000.0</td>\n",
       "      <td>625500.0</td>\n",
       "      <td>32067.0</td>\n",
       "      <td>625500.0</td>\n",
       "      <td>...</td>\n",
       "      <td>0</td>\n",
       "      <td>0</td>\n",
       "      <td>0</td>\n",
       "      <td>0</td>\n",
       "      <td>NaN</td>\n",
       "      <td>NaN</td>\n",
       "      <td>NaN</td>\n",
       "      <td>NaN</td>\n",
       "      <td>NaN</td>\n",
       "      <td>NaN</td>\n",
       "    </tr>\n",
       "  </tbody>\n",
       "</table>\n",
       "<p>5 rows × 121 columns</p>\n",
       "</div>"
      ],
      "text/plain": [
       "   SK_ID_CURR NAME_CONTRACT_TYPE CODE_GENDER FLAG_OWN_CAR FLAG_OWN_REALTY  \\\n",
       "0      100001         Cash loans           F            N               Y   \n",
       "1      100005         Cash loans           M            N               Y   \n",
       "2      100013         Cash loans           M            Y               Y   \n",
       "3      100028         Cash loans           F            N               Y   \n",
       "4      100038         Cash loans           M            Y               N   \n",
       "\n",
       "   CNT_CHILDREN  AMT_INCOME_TOTAL  AMT_CREDIT  AMT_ANNUITY  AMT_GOODS_PRICE  \\\n",
       "0             0          135000.0    568800.0      20560.5         450000.0   \n",
       "1             0           99000.0    222768.0      17370.0         180000.0   \n",
       "2             0          202500.0    663264.0      69777.0         630000.0   \n",
       "3             2          315000.0   1575000.0      49018.5        1575000.0   \n",
       "4             1          180000.0    625500.0      32067.0         625500.0   \n",
       "\n",
       "   ... FLAG_DOCUMENT_18 FLAG_DOCUMENT_19 FLAG_DOCUMENT_20 FLAG_DOCUMENT_21  \\\n",
       "0  ...                0                0                0                0   \n",
       "1  ...                0                0                0                0   \n",
       "2  ...                0                0                0                0   \n",
       "3  ...                0                0                0                0   \n",
       "4  ...                0                0                0                0   \n",
       "\n",
       "  AMT_REQ_CREDIT_BUREAU_HOUR  AMT_REQ_CREDIT_BUREAU_DAY  \\\n",
       "0                        0.0                        0.0   \n",
       "1                        0.0                        0.0   \n",
       "2                        0.0                        0.0   \n",
       "3                        0.0                        0.0   \n",
       "4                        NaN                        NaN   \n",
       "\n",
       "   AMT_REQ_CREDIT_BUREAU_WEEK  AMT_REQ_CREDIT_BUREAU_MON  \\\n",
       "0                         0.0                        0.0   \n",
       "1                         0.0                        0.0   \n",
       "2                         0.0                        0.0   \n",
       "3                         0.0                        0.0   \n",
       "4                         NaN                        NaN   \n",
       "\n",
       "   AMT_REQ_CREDIT_BUREAU_QRT  AMT_REQ_CREDIT_BUREAU_YEAR  \n",
       "0                        0.0                         0.0  \n",
       "1                        0.0                         3.0  \n",
       "2                        1.0                         4.0  \n",
       "3                        0.0                         3.0  \n",
       "4                        NaN                         NaN  \n",
       "\n",
       "[5 rows x 121 columns]"
      ]
     },
     "execution_count": 5,
     "metadata": {},
     "output_type": "execute_result"
    }
   ],
   "source": [
    "# Testing data features\n",
    "app_test = pd.read_csv(DATA_DIRECTORY + '/application_test.csv')\n",
    "print('Testing data shape: ', app_test.shape)\n",
    "app_test.head()"
   ]
  },
  {
   "cell_type": "code",
   "execution_count": 6,
   "id": "52c42f90",
   "metadata": {},
   "outputs": [
    {
     "name": "stdout",
     "output_type": "stream",
     "text": [
      "(307511, 122)\n",
      "307511\n"
     ]
    }
   ],
   "source": [
    "print(app_train.shape)\n",
    "print(app_train['SK_ID_CURR'].nunique())"
   ]
  },
  {
   "cell_type": "raw",
   "id": "729ad06d",
   "metadata": {},
   "source": [
    "The test set is considerably smaller and lacks a `TARGET` column. "
   ]
  },
  {
   "cell_type": "code",
   "execution_count": 7,
   "id": "9ee7660f",
   "metadata": {},
   "outputs": [],
   "source": [
    "df = app_train.append(app_test)"
   ]
  },
  {
   "cell_type": "code",
   "execution_count": 8,
   "id": "b6cefddb",
   "metadata": {},
   "outputs": [
    {
     "data": {
      "text/plain": [
       "(356255, 122)"
      ]
     },
     "execution_count": 8,
     "metadata": {},
     "output_type": "execute_result"
    }
   ],
   "source": [
    "df.shape"
   ]
  },
  {
   "cell_type": "code",
   "execution_count": 9,
   "id": "82ceaf39",
   "metadata": {
    "scrolled": true
   },
   "outputs": [
    {
     "data": {
      "text/plain": [
       "0.0    282686\n",
       "1.0     24825\n",
       "Name: TARGET, dtype: int64"
      ]
     },
     "execution_count": 9,
     "metadata": {},
     "output_type": "execute_result"
    }
   ],
   "source": [
    "df['TARGET'].value_counts()"
   ]
  },
  {
   "cell_type": "code",
   "execution_count": 10,
   "id": "89af8bb4",
   "metadata": {},
   "outputs": [
    {
     "data": {
      "text/plain": [
       "48744"
      ]
     },
     "execution_count": 10,
     "metadata": {},
     "output_type": "execute_result"
    }
   ],
   "source": [
    "df['TARGET'].isna().sum()"
   ]
  },
  {
   "cell_type": "markdown",
   "id": "c6058968",
   "metadata": {},
   "source": [
    "## Step 2.a : Focus on specific columns for loan simulation tool\n",
    "For this exercice, I will attempt to create a loan simulation tool, available for everyone who would like to have insights on the bank confidence level to grant a loan.\n",
    "\n",
    "I am aware that the resulting model will be less accurate compared to another one which would take into account all available data."
   ]
  },
  {
   "cell_type": "code",
   "execution_count": 11,
   "id": "8bf0031c",
   "metadata": {},
   "outputs": [],
   "source": [
    "# Selection is based on \"HomeCredit_columns_description.csv\" file.\n",
    "selected_columns = [\n",
    "    'SK_ID_CURR', # to remove for modelization\n",
    "    'TARGET',\n",
    "    'NAME_CONTRACT_TYPE',\n",
    "    'CODE_GENDER',\n",
    "    'FLAG_OWN_CAR',\n",
    "    'FLAG_OWN_REALTY',\n",
    "    'CNT_CHILDREN',\n",
    "    'AMT_INCOME_TOTAL',\n",
    "    'AMT_CREDIT',\n",
    "    'AMT_ANNUITY',\n",
    "    'AMT_GOODS_PRICE',\n",
    "    'NAME_INCOME_TYPE',\n",
    "    'NAME_EDUCATION_TYPE',\n",
    "    'NAME_FAMILY_STATUS',\n",
    "    'NAME_HOUSING_TYPE',\n",
    "    'DAYS_BIRTH',\n",
    "    'DAYS_EMPLOYED',\n",
    "    'OWN_CAR_AGE',\n",
    "    'OCCUPATION_TYPE',\n",
    "    'CNT_FAM_MEMBERS',\n",
    "    'ORGANIZATION_TYPE',\n",
    "    'DAYS_LAST_PHONE_CHANGE',\n",
    "]"
   ]
  },
  {
   "cell_type": "code",
   "execution_count": 12,
   "id": "e924240d",
   "metadata": {},
   "outputs": [
    {
     "name": "stdout",
     "output_type": "stream",
     "text": [
      "Number of columns selected:  22\n"
     ]
    }
   ],
   "source": [
    "reduce_df = df[selected_columns]\n",
    "print('Number of columns selected: ', reduce_df.shape[1])"
   ]
  },
  {
   "cell_type": "code",
   "execution_count": 14,
   "id": "28c2a719",
   "metadata": {},
   "outputs": [
    {
     "data": {
      "image/png": "[encoded data removed]",
      "text/plain": [
       "<Figure size 864x1440 with 1 Axes>"
      ]
     },
     "metadata": {
      "needs_background": "light"
     },
     "output_type": "display_data"
    }
   ],
   "source": [
    "plt.figure(figsize = (12, 20))\n",
    "# iterate through the new features\n",
    "for i, feature in enumerate(['DAYS_LAST_PHONE_CHANGE']):\n",
    "    \n",
    "    # create a new subplot for each source\n",
    "    plt.subplot(4, 1, i + 1)\n",
    "    # plot repaid loans\n",
    "    sns.kdeplot(reduce_df.loc[reduce_df['TARGET'] == 0, feature], label = 'target == 0')\n",
    "    # plot loans that were not repaid\n",
    "    sns.kdeplot(reduce_df.loc[reduce_df['TARGET'] == 1, feature], label = 'target == 1')\n",
    "    \n",
    "    # Label the plots\n",
    "    plt.title('Distribution of %s by Target Value' % feature)\n",
    "    plt.xlabel('%s' % feature); plt.ylabel('Density');\n",
    "    \n",
    "plt.tight_layout(h_pad = 2.5)"
   ]
  },
  {
   "cell_type": "code",
   "execution_count": null,
   "id": "99497207",
   "metadata": {},
   "outputs": [],
   "source": [
    "stop"
   ]
  },
  {
   "cell_type": "markdown",
   "id": "b44b91e3",
   "metadata": {},
   "source": [
    "## Step 2.b : EDA Exploratory Data Analysis & Data cleansing "
   ]
  },
  {
   "cell_type": "code",
   "execution_count": null,
   "id": "56818e0b",
   "metadata": {
    "scrolled": true
   },
   "outputs": [],
   "source": [
    "reduce_df.dtypes"
   ]
  },
  {
   "cell_type": "markdown",
   "id": "2b08b36e",
   "metadata": {},
   "source": [
    "### Step 2.b.1 : Target Column "
   ]
  },
  {
   "cell_type": "code",
   "execution_count": null,
   "id": "94889d9c",
   "metadata": {},
   "outputs": [],
   "source": [
    "reduce_df['TARGET'].value_counts()"
   ]
  },
  {
   "cell_type": "code",
   "execution_count": null,
   "id": "8d2e00d6",
   "metadata": {
    "scrolled": true
   },
   "outputs": [],
   "source": [
    "reduce_df.groupby('TARGET').size().plot(kind='pie')"
   ]
  },
  {
   "cell_type": "raw",
   "id": "73888222",
   "metadata": {},
   "source": [
    "CCL : imbalanced class problem ==> weight the classes ?"
   ]
  },
  {
   "cell_type": "markdown",
   "id": "31da66f3",
   "metadata": {},
   "source": [
    "### Step 2.b.2 : Missing values"
   ]
  },
  {
   "cell_type": "code",
   "execution_count": null,
   "id": "78e4a564",
   "metadata": {},
   "outputs": [],
   "source": [
    "# Function to calculate missing values by column# Funct \n",
    "def missing_values_table(df):\n",
    "        # Total missing values\n",
    "        mis_val = df.isnull().sum()\n",
    "        \n",
    "        # Percentage of missing values\n",
    "        mis_val_percent = 100 * df.isnull().sum() / len(df)\n",
    "        \n",
    "        # Make a table with the results\n",
    "        mis_val_table = pd.concat([mis_val, mis_val_percent], axis=1)\n",
    "        \n",
    "        # Rename the columns\n",
    "        mis_val_table_ren_columns = mis_val_table.rename(\n",
    "        columns = {0 : 'Missing Values', 1 : '% of Total Values'})\n",
    "        \n",
    "        # Sort the table by percentage of missing descending\n",
    "        mis_val_table_ren_columns = mis_val_table_ren_columns[\n",
    "            mis_val_table_ren_columns.iloc[:,1] != 0].sort_values(\n",
    "        '% of Total Values', ascending=False).round(1)\n",
    "        \n",
    "        # Print some summary information\n",
    "        print (\"Your selected dataframe has \" + str(df.shape[1]) + \" columns.\\n\"      \n",
    "            \"There are \" + str(mis_val_table_ren_columns.shape[0]) +\n",
    "              \" columns that have missing values.\")\n",
    "        \n",
    "        # Return the dataframe with missing information\n",
    "        return mis_val_table_ren_columns"
   ]
  },
  {
   "cell_type": "code",
   "execution_count": null,
   "id": "077eb099",
   "metadata": {
    "scrolled": true
   },
   "outputs": [],
   "source": [
    "# Missing values statistics\n",
    "missing_values = missing_values_table(reduce_df)\n",
    "missing_values"
   ]
  },
  {
   "cell_type": "markdown",
   "id": "3df33753",
   "metadata": {},
   "source": [
    "### Step 2.b.3 : Categorical variables "
   ]
  },
  {
   "cell_type": "code",
   "execution_count": null,
   "id": "6e3dbd5f",
   "metadata": {},
   "outputs": [],
   "source": [
    "# Number of unique classes in each object column\n",
    "reduce_df.select_dtypes('object').apply(pd.Series.nunique, axis = 0)"
   ]
  },
  {
   "cell_type": "code",
   "execution_count": null,
   "id": "f39a3021",
   "metadata": {
    "scrolled": false
   },
   "outputs": [],
   "source": [
    "for col in reduce_df:\n",
    "    if reduce_df[col].dtype == 'object':\n",
    "        print(col, \" :\\n\", reduce_df[col].value_counts())"
   ]
  },
  {
   "cell_type": "code",
   "execution_count": null,
   "id": "cf950337",
   "metadata": {},
   "outputs": [],
   "source": [
    "def Categorical_Columns_Cleaning(df):\n",
    "    \"\"\" Categorical Columns Cleaning \"\"\"\n",
    "    ### Non-representative values to nan ###\n",
    "    df['CODE_GENDER'].replace('XNA', np.nan, inplace= True)\n",
    "    df['NAME_FAMILY_STATUS'].replace('Unknown', np.nan, inplace= True)\n",
    "    \n",
    "    ### Clean Organization Type Column ###\n",
    "    # Cleaning for Occupation Type ==> Removing Type + number associated, too complicated\n",
    "    df['ORGANIZATION_TYPE'] = [x.split(':')[0] for x in df['ORGANIZATION_TYPE']]\n",
    "    df['ORGANIZATION_TYPE'] = [x.split(' Type')[0] for x in df['ORGANIZATION_TYPE']]\n",
    "    df['ORGANIZATION_TYPE'].replace('XNA', np.nan, inplace= True)\n",
    "    print(\"ORGANIZATION_TYPE\")\n",
    "    print(df['ORGANIZATION_TYPE'].nunique())\n",
    "    print(df['ORGANIZATION_TYPE'].unique().tolist())\n",
    "    \n",
    "    return df"
   ]
  },
  {
   "cell_type": "code",
   "execution_count": null,
   "id": "65152570",
   "metadata": {
    "scrolled": true
   },
   "outputs": [],
   "source": [
    "clean_df = Categorical_Columns_Cleaning(reduce_df)"
   ]
  },
  {
   "cell_type": "markdown",
   "id": "108c9cc5",
   "metadata": {},
   "source": [
    "### Step 2.b.4 : Numeric variables"
   ]
  },
  {
   "cell_type": "code",
   "execution_count": null,
   "id": "37f3938e",
   "metadata": {},
   "outputs": [],
   "source": [
    "for col in clean_df.select_dtypes(include=[np.number]):\n",
    "      print(col, \" : \", \"[\", clean_df[col].min(), ', ', clean_df[col].max(), ']')"
   ]
  },
  {
   "cell_type": "code",
   "execution_count": null,
   "id": "9b893df5",
   "metadata": {
    "scrolled": false
   },
   "outputs": [],
   "source": [
    "for col in clean_df.select_dtypes(include=np.number):\n",
    "    plt.figure(col)\n",
    "    sns.violinplot(x=clean_df[col])"
   ]
  },
  {
   "cell_type": "markdown",
   "id": "035407a2",
   "metadata": {},
   "source": [
    "#### CNT_CHILDREN"
   ]
  },
  {
   "cell_type": "code",
   "execution_count": null,
   "id": "89105e79",
   "metadata": {
    "scrolled": true
   },
   "outputs": [],
   "source": [
    "clean_df['CNT_CHILDREN'].value_counts()"
   ]
  },
  {
   "cell_type": "code",
   "execution_count": null,
   "id": "4ec97b3e",
   "metadata": {
    "scrolled": true
   },
   "outputs": [],
   "source": [
    "### CNT_CHILDREN to categorical ==> 3 & + children ###\n",
    "category = pd.cut(clean_df.CNT_CHILDREN, bins=[0,1,2,3,99], labels=[\"0\",\"1\",\"2\",\"3+\"], right=False)\n",
    "clean_df['CNT_CHILDREN'] = category\n",
    "clean_df['CNT_CHILDREN'] = clean_df['CNT_CHILDREN'].astype('object')\n",
    "print(\"CNT_CHILDREN: \")\n",
    "clean_df['CNT_CHILDREN'].value_counts()"
   ]
  },
  {
   "cell_type": "markdown",
   "id": "a54f183d",
   "metadata": {},
   "source": [
    "#### CNT_FAM_MEMBERS"
   ]
  },
  {
   "cell_type": "code",
   "execution_count": null,
   "id": "65837678",
   "metadata": {
    "scrolled": true
   },
   "outputs": [],
   "source": [
    "clean_df['CNT_FAM_MEMBERS'].value_counts()"
   ]
  },
  {
   "cell_type": "code",
   "execution_count": null,
   "id": "725a34ba",
   "metadata": {
    "scrolled": true
   },
   "outputs": [],
   "source": [
    "### CNT_FAM_MEMBERS to categorical ==> 5 & + family members ###\n",
    "category = pd.cut(clean_df.CNT_FAM_MEMBERS, bins=[0,1,2,3,4,5,99], labels=[\"0\",\"1\",\"2\",\"3\",\"4\",\"5+\"], right=False)\n",
    "clean_df['CNT_FAM_MEMBERS'] = category\n",
    "clean_df['CNT_FAM_MEMBERS'] = clean_df['CNT_FAM_MEMBERS'].astype('object')\n",
    "print(\"CNT_FAM_MEMBERS: \")\n",
    "clean_df['CNT_FAM_MEMBERS'].value_counts()"
   ]
  },
  {
   "cell_type": "markdown",
   "id": "469e2356",
   "metadata": {},
   "source": [
    "#### DAYS_BIRTH"
   ]
  },
  {
   "cell_type": "code",
   "execution_count": null,
   "id": "3f5c74d4",
   "metadata": {
    "scrolled": true
   },
   "outputs": [],
   "source": [
    "clean_df['DAYS_BIRTH'].describe()"
   ]
  },
  {
   "cell_type": "code",
   "execution_count": null,
   "id": "9e09e3c8",
   "metadata": {
    "scrolled": false
   },
   "outputs": [],
   "source": [
    "(clean_df['DAYS_BIRTH'] / -365).describe()"
   ]
  },
  {
   "cell_type": "raw",
   "id": "38164ea6",
   "metadata": {},
   "source": [
    "Ages look reasonable. No outliers for the age on either the high or low end."
   ]
  },
  {
   "cell_type": "code",
   "execution_count": null,
   "id": "f3406fc2",
   "metadata": {},
   "outputs": [],
   "source": [
    "clean_df['YEARS_BIRTH'] = round(clean_df['DAYS_BIRTH'] / -365)\n",
    "clean_df.drop(columns=['DAYS_BIRTH'], inplace=True)"
   ]
  },
  {
   "cell_type": "code",
   "execution_count": null,
   "id": "c36d56c3",
   "metadata": {
    "scrolled": true
   },
   "outputs": [],
   "source": [
    "clean_df['YEARS_BIRTH'].describe()"
   ]
  },
  {
   "cell_type": "code",
   "execution_count": null,
   "id": "093d90d4",
   "metadata": {},
   "outputs": [],
   "source": [
    "clean_df['YEARS_BIRTH'].isna().sum()"
   ]
  },
  {
   "cell_type": "markdown",
   "id": "616d1851",
   "metadata": {},
   "source": [
    "#### DAYS_EMPLOYED"
   ]
  },
  {
   "cell_type": "code",
   "execution_count": null,
   "id": "f9bd44ff",
   "metadata": {},
   "outputs": [],
   "source": [
    "(clean_df['DAYS_EMPLOYED'] / -365).describe()"
   ]
  },
  {
   "cell_type": "code",
   "execution_count": null,
   "id": "6255ae21",
   "metadata": {},
   "outputs": [],
   "source": [
    "clean_df['DAYS_EMPLOYED'].plot.hist(title = 'Days Employment Histogram');\n",
    "plt.xlabel('Days Employment');"
   ]
  },
  {
   "cell_type": "code",
   "execution_count": null,
   "id": "1635ad02",
   "metadata": {
    "scrolled": true
   },
   "outputs": [],
   "source": [
    "# Replace the anomalous values with nan\n",
    "clean_df['DAYS_EMPLOYED'].replace({365243: np.nan}, inplace = True)\n",
    "\n",
    "clean_df['DAYS_EMPLOYED'].plot.hist(title = 'Days Employment Histogram');\n",
    "plt.xlabel('Days Employment');"
   ]
  },
  {
   "cell_type": "code",
   "execution_count": null,
   "id": "261bfeb4",
   "metadata": {},
   "outputs": [],
   "source": [
    "clean_df['YEARS_EMPLOYED'] = round(clean_df['DAYS_EMPLOYED'] / -365)\n",
    "clean_df.drop(columns=['DAYS_EMPLOYED'], inplace=True)"
   ]
  },
  {
   "cell_type": "code",
   "execution_count": null,
   "id": "df631b1e",
   "metadata": {
    "scrolled": true
   },
   "outputs": [],
   "source": [
    "clean_df['YEARS_EMPLOYED'].describe()"
   ]
  },
  {
   "cell_type": "code",
   "execution_count": null,
   "id": "917d86b4",
   "metadata": {
    "scrolled": true
   },
   "outputs": [],
   "source": [
    "clean_df['YEARS_EMPLOYED'].isna().sum()"
   ]
  },
  {
   "cell_type": "markdown",
   "id": "669bc64b",
   "metadata": {},
   "source": [
    "#### DAYS_LAST_PHONE_CHANGE"
   ]
  },
  {
   "cell_type": "code",
   "execution_count": null,
   "id": "577379cf",
   "metadata": {
    "scrolled": true
   },
   "outputs": [],
   "source": [
    "clean_df['DAYS_LAST_PHONE_CHANGE'].describe()"
   ]
  },
  {
   "cell_type": "code",
   "execution_count": null,
   "id": "4402dea3",
   "metadata": {
    "scrolled": true
   },
   "outputs": [],
   "source": [
    "(clean_df['DAYS_LAST_PHONE_CHANGE'] / -365).describe()"
   ]
  },
  {
   "cell_type": "code",
   "execution_count": null,
   "id": "20e21610",
   "metadata": {},
   "outputs": [],
   "source": [
    "clean_df['YEARS_LAST_PHONE_CHANGE'] = clean_df['DAYS_LAST_PHONE_CHANGE'] / -365\n",
    "clean_df.drop(columns=['DAYS_LAST_PHONE_CHANGE'], inplace=True)\n",
    "clean_df['YEARS_LAST_PHONE_CHANGE'].plot.hist(title = 'YEARS_LAST_PHONE_CHANGE Histogram');\n",
    "plt.xlabel('YEARS_LAST_PHONE_CHANGE');"
   ]
  },
  {
   "cell_type": "code",
   "execution_count": null,
   "id": "571745f2",
   "metadata": {
    "scrolled": true
   },
   "outputs": [],
   "source": [
    "### CNT_FAM_MEMBERS to categorical ==> 5 & + family members ###\n",
    "category = pd.cut(clean_df.YEARS_LAST_PHONE_CHANGE, bins=[0,0.5,1,2,3,4,5,99], labels=[\"New\",\"6 months\",\"1 year\",\"2 years\", \"3 years\",\"4 years\", \"5+ years\"], right=False)\n",
    "clean_df['YEARS_LAST_PHONE_CHANGE'] = category\n",
    "clean_df['YEARS_LAST_PHONE_CHANGE'] = clean_df['YEARS_LAST_PHONE_CHANGE'].astype('object')\n",
    "print(\"YEARS_LAST_PHONE_CHANGE: \")\n",
    "clean_df['YEARS_LAST_PHONE_CHANGE'].value_counts()"
   ]
  },
  {
   "cell_type": "markdown",
   "id": "256a89bf",
   "metadata": {},
   "source": [
    "#### OWN_CAR_AGE"
   ]
  },
  {
   "cell_type": "code",
   "execution_count": null,
   "id": "179040db",
   "metadata": {
    "scrolled": true
   },
   "outputs": [],
   "source": [
    "clean_df['OWN_CAR_AGE'].describe()"
   ]
  },
  {
   "cell_type": "code",
   "execution_count": null,
   "id": "e5f7678f",
   "metadata": {},
   "outputs": [],
   "source": [
    "clean_df['OWN_CAR_AGE'].plot.hist(title = 'OWN_CAR_AGE Histogram');\n",
    "plt.xlabel('OWN_CAR_AGE');"
   ]
  },
  {
   "cell_type": "code",
   "execution_count": null,
   "id": "3816119b",
   "metadata": {
    "scrolled": true
   },
   "outputs": [],
   "source": [
    "### CNT_FAM_MEMBERS to categorical ==> 5 & + family members ###\n",
    "category = pd.cut(clean_df.OWN_CAR_AGE, bins=[0,1,2,3,5,10,20,60, 99],\n",
    "                  labels=[\"New\",\"1 year\",\"2 years\", \"Less than 5 years\",\"Less than 10 years\",\n",
    "                          \"Less than 20 years\", \"More than 20 years\", \"Collection car\"], right=False)\n",
    "clean_df['OWN_CAR_AGE'] = category\n",
    "clean_df['OWN_CAR_AGE'] = clean_df['OWN_CAR_AGE'].astype('object')\n",
    "print(\"OWN_CAR_AGE: \")\n",
    "clean_df['OWN_CAR_AGE'].value_counts()"
   ]
  },
  {
   "cell_type": "markdown",
   "id": "4e2d420f",
   "metadata": {},
   "source": [
    "### Step 2.b.5 : Encoding Categorical Variables"
   ]
  },
  {
   "cell_type": "code",
   "execution_count": null,
   "id": "b5e5c9fa",
   "metadata": {},
   "outputs": [],
   "source": [
    "clean_df.shape"
   ]
  },
  {
   "cell_type": "raw",
   "id": "bac792a2",
   "metadata": {},
   "source": [
    "# TO DO :\n",
    "# CODE_GENDER : M = 1, F = 2\n",
    "# FLAG_OWN_CAR : N = 0, Y = 1\n",
    "# FLAG_OWN_REALTY : N = 0, Y = 1\n",
    "    \n",
    "    # Categorical features with Binary encode (0 or 1; two categories)\n",
    "    for bin_feature in ['CODE_GENDER', 'FLAG_OWN_CAR', 'FLAG_OWN_REALTY']:\n",
    "        df[bin_feature], uniques = pd.factorize(df[bin_feature])"
   ]
  },
  {
   "cell_type": "code",
   "execution_count": null,
   "id": "446d746d",
   "metadata": {
    "scrolled": false
   },
   "outputs": [],
   "source": [
    "clean_df.dtypes"
   ]
  },
  {
   "cell_type": "code",
   "execution_count": null,
   "id": "4ea858d4",
   "metadata": {},
   "outputs": [],
   "source": [
    "# one-hot encoding of categorical variables\n",
    "clean_df = pd.get_dummies(clean_df)\n",
    "\n",
    "print('Features shape: ', clean_df.shape)"
   ]
  },
  {
   "cell_type": "code",
   "execution_count": null,
   "id": "e7932454",
   "metadata": {
    "scrolled": false
   },
   "outputs": [],
   "source": [
    "clean_df.columns.tolist()"
   ]
  },
  {
   "cell_type": "markdown",
   "id": "bc4569ad",
   "metadata": {},
   "source": [
    "## Step 2.c : Feature Engineering "
   ]
  },
  {
   "cell_type": "markdown",
   "id": "c5435ad5",
   "metadata": {},
   "source": [
    "#### Feature Engineering\n",
    "\n",
    "Kaggle competitions are won by feature engineering: those win are those who can create the most useful features out of the data. (This is true for the most part as the winning models, at least for structured data, all tend to be variants on [gradient boosting](http://blog.kaggle.com/2017/01/23/a-kaggle-master-explains-gradient-boosting/)). This represents one of the patterns in machine learning: feature engineering has a greater return on investment than model building and hyperparameter tuning. [This is a great article on the subject)](https://www.featurelabs.com/blog/secret-to-data-science-success/). As Andrew Ng is fond of saying: \"applied machine learning is basically feature engineering.\" \n",
    "\n",
    "While choosing the right model and optimal settings are important, the model can only learn from the data it is given. Making sure this data is as relevant to the task as possible is the job of the data scientist (and maybe some [automated tools](https://docs.featuretools.com/getting_started/install.html) to help us out).\n",
    "\n",
    "Feature engineering refers to a geneal process and can involve both feature construction: adding new features from the existing data, and feature selection: choosing only the most important features or other methods of dimensionality reduction. There are many techniques we can use to both create features and select features.\n",
    "\n",
    "We will do a lot of feature engineering when we start using the other data sources, but in this notebook we will try only two simple feature construction methods: \n",
    "\n",
    "* Polynomial features\n",
    "* Domain knowledge features"
   ]
  },
  {
   "cell_type": "markdown",
   "id": "28c3187e",
   "metadata": {},
   "source": [
    "### Step 2.c.1 : Polynomial Features"
   ]
  },
  {
   "cell_type": "markdown",
   "id": "ef4863b3",
   "metadata": {},
   "source": [
    "#### Polynomial Features\n",
    "\n",
    "One simple feature construction method is called [polynomial features](http://scikit-learn.org/stable/modules/generated/sklearn.preprocessing.PolynomialFeatures.html). In this method, we make features that are powers of existing features as well as interaction terms between existing features. For example, we can create variables `EXT_SOURCE_1^2` and `EXT_SOURCE_2^2` and also variables such as `EXT_SOURCE_1` x `EXT_SOURCE_2`, `EXT_SOURCE_1` x `EXT_SOURCE_2^2`, `EXT_SOURCE_1^2` x   `EXT_SOURCE_2^2`, and so on. These features that are a combination of multiple individual variables are called [interaction terms](https://en.wikipedia.org/wiki/Interaction_(statistics) because they  capture the interactions between variables. In other words, while two variables by themselves  may not have a strong influence on the target, combining them together into a single interaction variable might show a relationship with the target. [Interaction terms are commonly used in statistical models](https://www.theanalysisfactor.com/interpreting-interactions-in-regression/) to capture the effects of multiple variables, but I do not see them used as often in machine learning. Nonetheless, we can try out a few to see if they might help our model to predict whether or not a client will repay a loan. \n",
    "\n",
    "Jake VanderPlas writes about [polynomial features in his excellent book Python for Data Science](https://jakevdp.github.io/PythonDataScienceHandbook/05.04-feature-engineering.html) for those who want more information.\n",
    "\n",
    "In the following code, we create polynomial features using the `EXT_SOURCE` variables and the `DAYS_BIRTH` variable. [Scikit-Learn has a useful class called `PolynomialFeatures`](http://scikit-learn.org/stable/modules/generated/sklearn.preprocessing.PolynomialFeatures.html) that creates the polynomials and the interaction terms up to a specified degree. We can use a degree of 3 to see the results (when we are creating polynomial features, we want to avoid using too high of a degree, both because the number of features scales exponentially with the degree, and because we can run into [problems with overfitting](http://scikit-learn.org/stable/auto_examples/model_selection/plot_underfitting_overfitting.html#sphx-glr-auto-examples-model-selection-plot-underfitting-overfitting-py))."
   ]
  },
  {
   "cell_type": "code",
   "execution_count": null,
   "id": "0dcacd34",
   "metadata": {},
   "outputs": [],
   "source": [
    "stop"
   ]
  },
  {
   "cell_type": "code",
   "execution_count": null,
   "id": "a3e43802",
   "metadata": {},
   "outputs": [],
   "source": [
    "poly_cols = [\n",
    "    'TARGET',\n",
    "    'AMT_INCOME_TOTAL',\n",
    "    'AMT_CREDIT',\n",
    "    'AMT_ANNUITY',\n",
    "    'AMT_GOODS_PRICE',\n",
    "    'YEARS_BIRTH',\n",
    "    'YEARS_EMPLOYED',\n",
    "]"
   ]
  },
  {
   "cell_type": "code",
   "execution_count": null,
   "id": "d3ae6b06",
   "metadata": {},
   "outputs": [],
   "source": [
    "# Make a new dataframe for polynomial features\n",
    "poly_features = clean_df[poly_cols]\n",
    "\n",
    "# imputer for handling missing values\n",
    "from sklearn.impute import SimpleImputer\n",
    "imputer = SimpleImputer(missing_values=np.nan, strategy='median')\n",
    "\n",
    "poly_target = poly_features['TARGET']\n",
    "\n",
    "poly_features = poly_features.drop(columns = ['TARGET'])\n",
    "\n",
    "# Need to impute missing values\n",
    "poly_features = imputer.fit_transform(poly_features)\n",
    "\n",
    "from sklearn.preprocessing import PolynomialFeatures\n",
    "                                  \n",
    "# Create the polynomial object with specified degree\n",
    "poly_transformer = PolynomialFeatures(degree = 3)"
   ]
  },
  {
   "cell_type": "code",
   "execution_count": null,
   "id": "fb4436f3",
   "metadata": {},
   "outputs": [],
   "source": [
    "# Train the polynomial features\n",
    "poly_transformer.fit(poly_features)\n",
    "\n",
    "# Transform the features\n",
    "poly_features = poly_transformer.transform(poly_features)\n",
    "print('Polynomial Features shape: ', poly_features.shape)"
   ]
  },
  {
   "cell_type": "raw",
   "id": "f9f5fb69",
   "metadata": {},
   "source": [
    "This creates a considerable number of new features. To get the names we have to use the polynomial features `get_feature_names` method."
   ]
  },
  {
   "cell_type": "code",
   "execution_count": null,
   "id": "ceb59b37",
   "metadata": {},
   "outputs": [],
   "source": [
    "poly_transformer.get_feature_names(input_features = poly_cols)[:15]"
   ]
  },
  {
   "cell_type": "raw",
   "id": "b2ba8797",
   "metadata": {},
   "source": [
    "There are 84 features with individual features raised to powers up to degree 3 and interaction terms. Now, we can see whether any of these new features are correlated with the target."
   ]
  },
  {
   "cell_type": "code",
   "execution_count": null,
   "id": "3ebe3ff5",
   "metadata": {
    "scrolled": false
   },
   "outputs": [],
   "source": [
    "# Create a dataframe of the features \n",
    "poly_features = pd.DataFrame(poly_features, \n",
    "                             columns = poly_transformer.get_feature_names(poly_cols))\n",
    "\n",
    "# Add in the target\n",
    "poly_features['TARGET'] = poly_target\n",
    "\n",
    "# Find the correlations with the target\n",
    "poly_corrs = poly_features.corr()['TARGET'].sort_values()\n",
    "\n",
    "# Display most negative and most positive\n",
    "print(poly_corrs.head(10))\n",
    "print(poly_corrs.tail(5))"
   ]
  },
  {
   "cell_type": "raw",
   "id": "9752e150",
   "metadata": {},
   "source": [
    "Several of the new variables have a greater (in terms of absolute magnitude) correlation with the target than the original features. When we build machine learning models, we can try with and without these features to determine if they actually help the model learn. \n",
    "\n",
    "We will add these features to a copy of the training and testing data and then evaluate models with and without the features. Many times in machine learning, the only way to know if an approach will work is to try it out! "
   ]
  },
  {
   "cell_type": "code",
   "execution_count": null,
   "id": "4421d6db",
   "metadata": {},
   "outputs": [],
   "source": [
    "# Merge polynomial features into training dataframe\n",
    "poly_features['SK_ID_CURR'] = clean_df['SK_ID_CURR']\n",
    "clean_df = clean_df.merge(poly_features, on = 'SK_ID_CURR', how = 'left')\n",
    "\n",
    "# Print out the new shapes\n",
    "print('Data with polynomial features shape: ', clean_df.shape)"
   ]
  },
  {
   "cell_type": "markdown",
   "id": "dbf9d938",
   "metadata": {},
   "source": [
    "### Step 2.c.2 : Domain Knowledge Features"
   ]
  },
  {
   "cell_type": "code",
   "execution_count": null,
   "id": "8b5f1d43",
   "metadata": {},
   "outputs": [],
   "source": [
    "clean_df['YEARS_EMPLOYED_PERCENT'] = clean_df['YEARS_EMPLOYED'] / clean_df['YEARS_BIRTH'] # percentage of the years employed relative to the client's age\n",
    "clean_df['INCOME_CREDIT_PERCENT'] = clean_df['AMT_INCOME_TOTAL'] / clean_df['AMT_CREDIT'] # percentage of the credit amount relative to a client's income\n",
    "clean_df['ANNUITY_INCOME_PERCENT'] = clean_df['AMT_ANNUITY'] / clean_df['AMT_INCOME_TOTAL'] # percentage of the loan annuity relative to a client's income \n",
    "clean_df['PAYMENT_RATE'] = clean_df['AMT_ANNUITY'] / clean_df['AMT_CREDIT']\n",
    "# df['INCOME_PER_PERSON'] = df['AMT_INCOME_TOTAL'] / df['CNT_FAM_MEMBERS']"
   ]
  },
  {
   "cell_type": "code",
   "execution_count": null,
   "id": "bc9c3caa",
   "metadata": {},
   "outputs": [],
   "source": [
    "clean_df.shape"
   ]
  },
  {
   "cell_type": "code",
   "execution_count": null,
   "id": "0e6799c3",
   "metadata": {},
   "outputs": [],
   "source": [
    "clean_df['TARGET'].isna().sum()"
   ]
  },
  {
   "cell_type": "code",
   "execution_count": null,
   "id": "4e90969a",
   "metadata": {},
   "outputs": [],
   "source": [
    "clean_df.to_csv('clean_df', index=False)"
   ]
  },
  {
   "cell_type": "markdown",
   "id": "200289ce",
   "metadata": {},
   "source": [
    "# Step 3 : Modelization"
   ]
  },
  {
   "cell_type": "code",
   "execution_count": null,
   "id": "cddb068a",
   "metadata": {},
   "outputs": [],
   "source": [
    "df = pd.read_csv('clean_df')"
   ]
  },
  {
   "cell_type": "code",
   "execution_count": null,
   "id": "fcad6e70",
   "metadata": {},
   "outputs": [],
   "source": [
    "train = df[df['TARGET'].notna()]\n",
    "test = df[df['TARGET'].isna()]\n",
    "print('train:', train.shape, ', test:', test.shape)"
   ]
  },
  {
   "cell_type": "code",
   "execution_count": null,
   "id": "d60d8a98",
   "metadata": {
    "scrolled": true
   },
   "outputs": [],
   "source": [
    "pip install gc"
   ]
  },
  {
   "cell_type": "code",
   "execution_count": null,
   "id": "0ceb9fd3",
   "metadata": {},
   "outputs": [],
   "source": [
    "pip list"
   ]
  },
  {
   "cell_type": "code",
   "execution_count": null,
   "id": "9eeff15d",
   "metadata": {},
   "outputs": [],
   "source": [
    "from sklearn.model_selection import KFold\n",
    "from sklearn.metrics import roc_auc_score\n",
    "import lightgbm as lgb\n",
    "import gc"
   ]
  },
  {
   "cell_type": "code",
   "execution_count": null,
   "id": "8e9107a7",
   "metadata": {},
   "outputs": [],
   "source": [
    "def model(features, test_features, encoding = 'ohe', n_folds = 5):\n",
    "    \n",
    "    \"\"\"Train and test a light gradient boosting model using\n",
    "    cross validation. \n",
    "    \n",
    "    Parameters\n",
    "    --------\n",
    "        features (pd.DataFrame): \n",
    "            dataframe of training features to use \n",
    "            for training a model. Must include the TARGET column.\n",
    "        test_features (pd.DataFrame): \n",
    "            dataframe of testing features to use\n",
    "            for making predictions with the model. \n",
    "        encoding (str, default = 'ohe'): \n",
    "            method for encoding categorical variables. Either 'ohe' for one-hot encoding or 'le' for integer label encoding\n",
    "            n_folds (int, default = 5): number of folds to use for cross validation\n",
    "        \n",
    "    Return\n",
    "    --------\n",
    "        submission (pd.DataFrame): \n",
    "            dataframe with `SK_ID_CURR` and `TARGET` probabilities\n",
    "            predicted by the model.\n",
    "        feature_importances (pd.DataFrame): \n",
    "            dataframe with the feature importances from the model.\n",
    "        valid_metrics (pd.DataFrame): \n",
    "            dataframe with training and validation metrics (ROC AUC) for each fold and overall.\n",
    "        \n",
    "    \"\"\"\n",
    "    \n",
    "    # Extract the ids\n",
    "    train_ids = features['SK_ID_CURR']\n",
    "    test_ids = test_features['SK_ID_CURR']\n",
    "    \n",
    "    # Extract the labels for training\n",
    "    labels = features['TARGET']\n",
    "    \n",
    "    # Remove the ids and target\n",
    "    features = features.drop(columns = ['SK_ID_CURR', 'TARGET'])\n",
    "    test_features = test_features.drop(columns = ['SK_ID_CURR'])\n",
    "    \n",
    "    \n",
    "    # One Hot Encoding\n",
    "    if encoding == 'ohe':\n",
    "        features = pd.get_dummies(features)\n",
    "        test_features = pd.get_dummies(test_features)\n",
    "        \n",
    "        # Align the dataframes by the columns\n",
    "        features, test_features = features.align(test_features, join = 'inner', axis = 1)\n",
    "        \n",
    "        # No categorical indices to record\n",
    "        cat_indices = 'auto'\n",
    "    \n",
    "    # Integer label encoding\n",
    "    elif encoding == 'le':\n",
    "        \n",
    "        # Create a label encoder\n",
    "        label_encoder = LabelEncoder()\n",
    "        \n",
    "        # List for storing categorical indices\n",
    "        cat_indices = []\n",
    "        \n",
    "        # Iterate through each column\n",
    "        for i, col in enumerate(features):\n",
    "            if features[col].dtype == 'object':\n",
    "                # Map the categorical features to integers\n",
    "                features[col] = label_encoder.fit_transform(np.array(features[col].astype(str)).reshape((-1,)))\n",
    "                test_features[col] = label_encoder.transform(np.array(test_features[col].astype(str)).reshape((-1,)))\n",
    "\n",
    "                # Record the categorical indices\n",
    "                cat_indices.append(i)\n",
    "    \n",
    "    # Catch error if label encoding scheme is not valid\n",
    "    else:\n",
    "        raise ValueError(\"Encoding must be either 'ohe' or 'le'\")\n",
    "        \n",
    "    print('Training Data Shape: ', features.shape)\n",
    "    print('Testing Data Shape: ', test_features.shape)\n",
    "    \n",
    "    # Extract feature names\n",
    "    feature_names = list(features.columns)\n",
    "    \n",
    "    # Convert to np arrays\n",
    "    features = np.array(features)\n",
    "    test_features = np.array(test_features)\n",
    "    \n",
    "    # Create the kfold object\n",
    "    k_fold = KFold(n_splits = n_folds, shuffle = False, random_state = 50)\n",
    "    \n",
    "    # Empty array for feature importances\n",
    "    feature_importance_values = np.zeros(len(feature_names))\n",
    "    \n",
    "    # Empty array for test predictions\n",
    "    test_predictions = np.zeros(test_features.shape[0])\n",
    "    \n",
    "    # Empty array for out of fold validation predictions\n",
    "    out_of_fold = np.zeros(features.shape[0])\n",
    "    \n",
    "    # Lists for recording validation and training scores\n",
    "    valid_scores = []\n",
    "    train_scores = []\n",
    "    \n",
    "    # Iterate through each fold\n",
    "    for train_indices, valid_indices in k_fold.split(features):\n",
    "        \n",
    "        # Training data for the fold\n",
    "        train_features, train_labels = features[train_indices], labels[train_indices]\n",
    "        # Validation data for the fold\n",
    "        valid_features, valid_labels = features[valid_indices], labels[valid_indices]\n",
    "        \n",
    "        # Create the model\n",
    "        model = lgb.LGBMClassifier(n_estimators=10000, objective = 'binary', \n",
    "                                   class_weight = 'balanced', learning_rate = 0.05, \n",
    "                                   reg_alpha = 0.1, reg_lambda = 0.1, \n",
    "                                   subsample = 0.8, n_jobs = -1, random_state = 50)\n",
    "        \n",
    "        # Train the model\n",
    "        model.fit(train_features, train_labels, eval_metric = 'auc',\n",
    "                  eval_set = [(valid_features, valid_labels), (train_features, train_labels)],\n",
    "                  eval_names = ['valid', 'train'], categorical_feature = cat_indices,\n",
    "                  early_stopping_rounds = 100, verbose = 200)\n",
    "        \n",
    "        # Record the best iteration\n",
    "        best_iteration = model.best_iteration_\n",
    "        \n",
    "        # Record the feature importances\n",
    "        feature_importance_values += model.feature_importances_ / k_fold.n_splits\n",
    "        \n",
    "        # Make predictions\n",
    "        test_predictions += model.predict_proba(test_features, num_iteration = best_iteration)[:, 1] / k_fold.n_splits\n",
    "        \n",
    "        # Record the out of fold predictions\n",
    "        out_of_fold[valid_indices] = model.predict_proba(valid_features, num_iteration = best_iteration)[:, 1]\n",
    "        \n",
    "        # Record the best score\n",
    "        valid_score = model.best_score_['valid']['auc']\n",
    "        train_score = model.best_score_['train']['auc']\n",
    "        \n",
    "        valid_scores.append(valid_score)\n",
    "        train_scores.append(train_score)\n",
    "        \n",
    "        # Clean up memory\n",
    "        gc.enable()\n",
    "        del model, train_features, valid_features\n",
    "        gc.collect()\n",
    "        \n",
    "    # Make the submission dataframe\n",
    "    submission = pd.DataFrame({'SK_ID_CURR': test_ids, 'TARGET': test_predictions})\n",
    "    \n",
    "    # Make the feature importance dataframe\n",
    "    feature_importances = pd.DataFrame({'feature': feature_names, 'importance': feature_importance_values})\n",
    "    \n",
    "    # Overall validation score\n",
    "    valid_auc = roc_auc_score(labels, out_of_fold)\n",
    "    \n",
    "    # Add the overall scores to the metrics\n",
    "    valid_scores.append(valid_auc)\n",
    "    train_scores.append(np.mean(train_scores))\n",
    "    \n",
    "    # Needed for creating dataframe of validation scores\n",
    "    fold_names = list(range(n_folds))\n",
    "    fold_names.append('overall')\n",
    "    \n",
    "    # Dataframe of validation scores\n",
    "    metrics = pd.DataFrame({'fold': fold_names,\n",
    "                            'train': train_scores,\n",
    "                            'valid': valid_scores}) \n",
    "    \n",
    "    return submission, feature_importances, metrics"
   ]
  },
  {
   "cell_type": "code",
   "execution_count": null,
   "id": "0a2a8d1e",
   "metadata": {},
   "outputs": [],
   "source": [
    "def model(features=train, test_features=test, encoding = 'ohe', n_folds = 5)"
   ]
  },
  {
   "cell_type": "markdown",
   "id": "a27a46bd",
   "metadata": {},
   "source": [
    "# Step 5 : Feature Importance"
   ]
  },
  {
   "cell_type": "markdown",
   "id": "4c090493",
   "metadata": {},
   "source": [
    "## Step 5.a : Global Feature Importance"
   ]
  },
  {
   "cell_type": "markdown",
   "id": "30a1b36b",
   "metadata": {},
   "source": [
    "### Step 5.a.1 : Correlation Analysis"
   ]
  },
  {
   "cell_type": "code",
   "execution_count": null,
   "id": "e707ef9d",
   "metadata": {},
   "outputs": [],
   "source": [
    "# Find correlations with the target and sort\n",
    "correlations = clean_df.corr()['TARGET'].sort_values()\n",
    "\n",
    "# Display correlations\n",
    "print('Most Positive Correlations:\\n', correlations.tail(15))\n",
    "print('\\nMost Negative Correlations:\\n', correlations.head(15))"
   ]
  },
  {
   "cell_type": "raw",
   "id": "cb3fec4d",
   "metadata": {},
   "source": [
    "Let's take a look at some of more significant correlations: the `DAYS_BIRTH` is the most positive correlation. (except for `TARGET` because the correlation of a variable with itself is always 1!) Looking at the documentation, `DAYS_BIRTH` is the age in days of the client at the time of the loan in negative days (for whatever reason!). The correlation is positive, but the value of this feature is actually negative, meaning that as the client gets older, they are less likely to default on their loan (ie the target == 0). That's a little confusing, so we will take the absolute value of the feature and then the correlation will be negative."
   ]
  },
  {
   "cell_type": "markdown",
   "id": "afbee5a9",
   "metadata": {},
   "source": [
    "## Step 5.b : Local Feature Importance"
   ]
  },
  {
   "cell_type": "markdown",
   "id": "e9f3005b",
   "metadata": {},
   "source": [
    "#### Effect on age on repayment"
   ]
  },
  {
   "cell_type": "code",
   "execution_count": null,
   "id": "f5d013bd",
   "metadata": {},
   "outputs": [],
   "source": [
    "# Find the correlation of the positive days since birth and target\n",
    "clean_df['YEARS_BIRTH'] = abs(clean_df['YEARS_BIRTH'])\n",
    "clean_df['YEARS_BIRTH'].corr(clean_df['TARGET'])"
   ]
  },
  {
   "cell_type": "raw",
   "id": "52f4bd5a",
   "metadata": {
    "scrolled": true
   },
   "source": [
    "As the client gets older, there is a negative linear relationship with the target meaning that as clients get older, they tend to repay their loans on time more often. \n",
    "\n",
    "Let's start looking at this variable. First, we can make a histogram of the age. We will put the x axis in years to make the plot a little more understandable."
   ]
  },
  {
   "cell_type": "code",
   "execution_count": null,
   "id": "74670794",
   "metadata": {},
   "outputs": [],
   "source": [
    "# Set the style of plots\n",
    "plt.style.use('fivethirtyeight')\n",
    "\n",
    "# Plot the distribution of ages in years\n",
    "plt.hist(clean_df['YEARS_BIRTH'], edgecolor = 'k', bins = 25)\n",
    "plt.title('Age of Client'); plt.xlabel('Age (years)'); plt.ylabel('Count');"
   ]
  },
  {
   "cell_type": "raw",
   "id": "687b83f5",
   "metadata": {},
   "source": [
    "By itself, the distribution of age does not tell us much other than that there are no outliers as all the ages are reasonable. To visualize the effect of the age on the target, we will next make a [kernel density estimation plot](https://en.wikipedia.org/wiki/Kernel_density_estimation) (KDE) colored by the value of the target. A [kernel density estimate plot shows the distribution of a single variable](https://chemicalstatistician.wordpress.com/2013/06/09/exploratory-data-analysis-kernel-density-estimation-in-r-on-ozone-pollution-data-in-new-york-and-ozonopolis/) and can be thought of as a smoothed histogram (it is created by computing a kernel, usually a Gaussian, at each data point and then averaging all the individual kernels to develop a single smooth curve). We will use the seaborn `kdeplot` for this graph."
   ]
  },
  {
   "cell_type": "code",
   "execution_count": null,
   "id": "a4290f71",
   "metadata": {},
   "outputs": [],
   "source": [
    "plt.figure(figsize = (10, 8))\n",
    "\n",
    "# KDE plot of loans that were repaid on time\n",
    "sns.kdeplot(clean_df.loc[clean_df['TARGET'] == 0, 'YEARS_BIRTH'], label = 'target == 0')\n",
    "\n",
    "# KDE plot of loans which were not repaid on time\n",
    "sns.kdeplot(clean_df.loc[clean_df['TARGET'] == 1, 'YEARS_BIRTH'], label = 'target == 1')\n",
    "\n",
    "# Labeling of plot\n",
    "plt.xlabel('Age (years)'); plt.ylabel('Density'); plt.title('Distribution of Ages');"
   ]
  },
  {
   "cell_type": "raw",
   "id": "413838fc",
   "metadata": {},
   "source": [
    "The target == 1 curve skews towards the younger end of the range. Although this is not a significant correlation (-0.07 correlation coefficient), this variable is likely going to be useful in a machine learning model because it does affect the target. Let's look at this relationship in another way: average failure to repay loans by age bracket. \n",
    "\n",
    "To make this graph, first we `cut` the age category into bins of 5 years each. Then, for each bin, we calculate the average value of the target, which tells us the ratio of loans that were not repaid in each age category."
   ]
  },
  {
   "cell_type": "code",
   "execution_count": null,
   "id": "d0601e7b",
   "metadata": {},
   "outputs": [],
   "source": [
    "# Age information into a separate dataframe\n",
    "age_data = clean_df[['TARGET', 'YEARS_BIRTH']]\n",
    "\n",
    "# Bin the age data\n",
    "age_data['YEARS_BINNED'] = pd.cut(age_data['YEARS_BIRTH'], bins = np.linspace(20, 70, num = 11))\n",
    "age_data.head(10)"
   ]
  },
  {
   "cell_type": "code",
   "execution_count": null,
   "id": "107b2fae",
   "metadata": {},
   "outputs": [],
   "source": [
    "# Group by the bin and calculate averages\n",
    "age_groups  = age_data.groupby('YEARS_BINNED').mean()\n",
    "age_groups"
   ]
  },
  {
   "cell_type": "code",
   "execution_count": null,
   "id": "d7fb602f",
   "metadata": {},
   "outputs": [],
   "source": [
    "plt.figure(figsize = (8, 8))\n",
    "\n",
    "# Graph the age bins and the average of the target as a bar plot\n",
    "plt.bar(age_groups.index.astype(str), 100 * age_groups['TARGET'])\n",
    "\n",
    "# Plot labeling\n",
    "plt.xticks(rotation = 75); plt.xlabel('Age Group (years)'); plt.ylabel('Failure to Repay (%)')\n",
    "plt.title('Failure to Repay by Age Group');"
   ]
  },
  {
   "cell_type": "raw",
   "id": "f994e727",
   "metadata": {},
   "source": [
    "There is a clear trend: younger applicants are more likely to not repay the loan! The rate of failure to repay is above 10% for the youngest three age groups and beolow 5% for the oldest age group.\n",
    "\n",
    "This is information that could be directly used by the bank: because younger clients are less likely to repay the loan, maybe they should be provided with more guidance or financial planning tips. This does not mean the bank should discriminate against younger clients, but it would be smart to take precautionary measures to help younger clients pay on time."
   ]
  },
  {
   "cell_type": "markdown",
   "id": "391dd31e",
   "metadata": {},
   "source": [
    "#### Pairs Plot"
   ]
  },
  {
   "cell_type": "code",
   "execution_count": null,
   "id": "30bf8a81",
   "metadata": {},
   "outputs": [],
   "source": [
    "# Extract the EXT_SOURCE variables and show correlations\n",
    "ext_data = app_train[['TARGET', 'EXT_SOURCE_1', 'EXT_SOURCE_2', 'EXT_SOURCE_3', 'DAYS_BIRTH']]\n",
    "ext_data_corrs = ext_data.corr()\n",
    "ext_data_corrs"
   ]
  },
  {
   "cell_type": "code",
   "execution_count": null,
   "id": "c06ebb13",
   "metadata": {},
   "outputs": [],
   "source": [
    "\n",
    "\n",
    "plt.figure(figsize = (8, 6))\n",
    "\n",
    "# Heatmap of correlations\n",
    "sns.heatmap(ext_data_corrs, cmap = plt.cm.RdYlBu_r, vmin = -0.25, annot = True, vmax = 0.6)\n",
    "plt.title('Correlation Heatmap');\n",
    "\n"
   ]
  },
  {
   "cell_type": "code",
   "execution_count": null,
   "id": "d919e4b7",
   "metadata": {},
   "outputs": [],
   "source": [
    "# # Copy the data for plotting\n",
    "# plot_data = ext_data.drop(columns = ['DAYS_BIRTH']).copy()\n",
    "\n",
    "# # Add in the age of the client in years\n",
    "# plot_data['YEARS_BIRTH'] = age_data['YEARS_BIRTH']\n",
    "\n",
    "# # Drop na values and limit to first 100000 rows\n",
    "# plot_data = plot_data.dropna().loc[:100000, :]\n",
    "\n",
    "# # Function to calculate correlation coefficient between two columns\n",
    "# def corr_func(x, y, **kwargs):\n",
    "#     r = np.corrcoef(x, y)[0][1]\n",
    "#     ax = plt.gca()\n",
    "#     ax.annotate(\"r = {:.2f}\".format(r),\n",
    "#                 xy=(.2, .8), xycoords=ax.transAxes,\n",
    "#                 size = 20)\n",
    "\n",
    "# # Create the pairgrid object\n",
    "# grid = sns.PairGrid(data = plot_data, size = 3, diag_sharey=False,\n",
    "#                     hue = 'TARGET', \n",
    "#                     vars = [x for x in list(plot_data.columns) if x != 'TARGET'])\n",
    "\n",
    "# # Upper is a scatter plot\n",
    "# grid.map_upper(plt.scatter, alpha = 0.2)\n",
    "\n",
    "# # Diagonal is a histogram\n",
    "# grid.map_diag(sns.kdeplot)\n",
    "\n",
    "# # Bottom is density plot\n",
    "# grid.map_lower(sns.kdeplot, cmap = plt.cm.OrRd_r);\n",
    "\n",
    "# plt.suptitle('Ext Source and Age Features Pairs Plot', size = 32, y = 1.05);"
   ]
  },
  {
   "cell_type": "raw",
   "id": "130a056b",
   "metadata": {},
   "source": [
    "In this plot, the red indicates loans that were not repaid and the blue are loans that are paid. We can see the different relationships within the data. There does appear to be a moderate positive linear relationship between the `EXT_SOURCE_1` and the `DAYS_BIRTH` (or equivalently `YEARS_BIRTH`), indicating that this feature may take into account the age of the client. "
   ]
  },
  {
   "cell_type": "markdown",
   "id": "7f6a191a",
   "metadata": {},
   "source": [
    "#### Visualize New Variables\n",
    "\n",
    "We should explore these __domain knowledge__ variables visually in a graph. For all of these, we will make the same KDE plot colored by the value of the `TARGET`."
   ]
  },
  {
   "cell_type": "code",
   "execution_count": null,
   "id": "2da81da0",
   "metadata": {},
   "outputs": [],
   "source": [
    "plt.figure(figsize = (12, 20))\n",
    "# iterate through the new features\n",
    "for i, feature in enumerate(['CREDIT_INCOME_PERCENT', 'ANNUITY_INCOME_PERCENT', 'CREDIT_TERM', 'DAYS_EMPLOYED_PERCENT']):\n",
    "    \n",
    "    # create a new subplot for each source\n",
    "    plt.subplot(4, 1, i + 1)\n",
    "    # plot repaid loans\n",
    "    sns.kdeplot(app_train_domain.loc[app_train_domain['TARGET'] == 0, feature], label = 'target == 0')\n",
    "    # plot loans that were not repaid\n",
    "    sns.kdeplot(app_train_domain.loc[app_train_domain['TARGET'] == 1, feature], label = 'target == 1')\n",
    "    \n",
    "    # Label the plots\n",
    "    plt.title('Distribution of %s by Target Value' % feature)\n",
    "    plt.xlabel('%s' % feature); plt.ylabel('Density');\n",
    "    \n",
    "plt.tight_layout(h_pad = 2.5)"
   ]
  },
  {
   "cell_type": "raw",
   "id": "9356449c",
   "metadata": {},
   "source": [
    "It's hard to say ahead of time if these new features will be useful. The only way to tell for sure is to try them out!"
   ]
  }
 ],
 "metadata": {
  "kernelspec": {
   "display_name": "Python 3 (ipykernel)",
   "language": "python",
   "name": "python3"
  },
  "language_info": {
   "codemirror_mode": {
    "name": "ipython",
    "version": 3
   },
   "file_extension": ".py",
   "mimetype": "text/x-python",
   "name": "python",
   "nbconvert_exporter": "python",
   "pygments_lexer": "ipython3",
   "version": "3.8.10"
  }
 },
 "nbformat": 4,
 "nbformat_minor": 5
}
